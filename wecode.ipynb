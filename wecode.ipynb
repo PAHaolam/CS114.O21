{
  "nbformat": 4,
  "nbformat_minor": 0,
  "metadata": {
    "colab": {
      "provenance": [],
      "authorship_tag": "ABX9TyMB3aUJkzAYL6R/LuOx6321",
      "include_colab_link": true
    },
    "kernelspec": {
      "name": "python3",
      "display_name": "Python 3"
    },
    "language_info": {
      "name": "python"
    }
  },
  "cells": [
    {
      "cell_type": "markdown",
      "metadata": {
        "id": "view-in-github",
        "colab_type": "text"
      },
      "source": [
        "<a href=\"https://colab.research.google.com/github/PAHaolam/CS114.O21/blob/main/wecode.ipynb\" target=\"_parent\"><img src=\"https://colab.research.google.com/assets/colab-badge.svg\" alt=\"Open In Colab\"/></a>"
      ]
    },
    {
      "cell_type": "code",
      "execution_count": null,
      "metadata": {
        "colab": {
          "base_uri": "https://localhost:8080/"
        },
        "id": "lUB7Wf1lSAMc",
        "outputId": "7aa84001-ed80-4580-ed03-815efaed318b"
      },
      "outputs": [
        {
          "output_type": "stream",
          "name": "stdout",
          "text": [
            "2 4\n",
            "3 4\n",
            "(2, 4) (2, 5) (3, 5) (3, 4)\n",
            "(2, 4) (3, 4) (3, 3) (2, 3)\n"
          ]
        }
      ],
      "source": [
        "def solve():\n",
        "  inp = input().split()\n",
        "  A = [int(inp[0]), int(inp[1])]\n",
        "  inp = input().split()\n",
        "  B = [int(inp[0]), int(inp[1])]\n",
        "  C = [A[0]+A[1]-B[1], A[1]+B[0]-A[0]]\n",
        "  D = [B[0]+A[1]-B[1], B[1]+B[0]-A[0]]\n",
        "  print('({}, {}) ({}, {}) ({}, {}) ({}, {})'.format(A[0], A[1], C[0], C[1], D[0], D[1], B[0], B[1]))\n",
        "\n",
        "  C = [A[0]-A[1]+B[1], A[1]-B[0]+A[0]]\n",
        "  D = [B[0]-A[1]+B[1], B[1]-B[0]+A[0]]\n",
        "  print('({}, {}) ({}, {}) ({}, {}) ({}, {})'.format(A[0], A[1], B[0], B[1], D[0], D[1], C[0], C[1]))\n",
        "\n",
        "if __name__==\"__main__\":\n",
        "  solve()"
      ]
    },
    {
      "cell_type": "code",
      "source": [
        "def c2i(c):\n",
        "  return ord(c)-97\n",
        "\n",
        "def solve():\n",
        "  a = input()\n",
        "  b = input()\n",
        "  if(len(a)!=len(b)):\n",
        "    print(\"NO\")\n",
        "    return\n",
        "\n",
        "  flag = True\n",
        "\n",
        "  even_a = [0]*26\n",
        "  odd_a = [0]*26\n",
        "  even_b = [0]*26\n",
        "  odd_b = [0]*26\n",
        "  for i in range(len(a)):\n",
        "    if(i%2==0):\n",
        "      even_a[c2i(a[i])]+=1\n",
        "      even_b[c2i(b[i])]+=1\n",
        "    else:\n",
        "      odd_a[c2i(a[i])]+=1\n",
        "      odd_b[c2i(b[i])]+=1\n",
        "\n",
        "  for i in range(26):\n",
        "    if(even_a[i]!=even_b[i] or odd_a[i]!=odd_b[i]): flag=False\n",
        "\n",
        "  if flag: print(\"YES\")\n",
        "  else: print(\"NO\")\n",
        "\n",
        "def main():\n",
        "  t = int(input())\n",
        "  for i in range(t):\n",
        "    solve()\n",
        "\n",
        "if __name__==\"__main__\":\n",
        "  main()"
      ],
      "metadata": {
        "colab": {
          "base_uri": "https://localhost:8080/"
        },
        "id": "kvyZbaq9y21x",
        "outputId": "2fe10f93-27f6-45a1-b02d-5fbb0b1ce5df"
      },
      "execution_count": null,
      "outputs": [
        {
          "output_type": "stream",
          "name": "stdout",
          "text": [
            "1\n",
            "hanoi\n",
            "ionah\n",
            "YES\n"
          ]
        }
      ]
    },
    {
      "cell_type": "code",
      "source": [
        "def solve():\n",
        "  inp = input().split()\n",
        "  inp = [int(i) for i in inp]\n",
        "\n",
        "  for i in range(len(inp)):\n",
        "    s = input().split(' ')\n",
        "    symb = 1\n",
        "    for j in s:\n",
        "      if(j=='lower'): symb=-1\n",
        "      if(j[-1]=='%'): sale=float(j[:-1])\n",
        "    inp[i]*=1+0.01*sale*symb\n",
        "\n",
        "  t = int(input())\n",
        "  s = sum(inp)\n",
        "  if(t>=s): print(\"true\")\n",
        "  else: print(\"false\")\n",
        "\n",
        "if __name__==\"__main__\":\n",
        "  solve()"
      ],
      "metadata": {
        "colab": {
          "base_uri": "https://localhost:8080/"
        },
        "id": "0TcfooEI8UjP",
        "outputId": "e5c05192-b96f-4e5c-d38f-2b350ad2a835"
      },
      "execution_count": null,
      "outputs": [
        {
          "output_type": "stream",
          "name": "stdout",
          "text": [
            "501700 989900 254900\n",
            "Contratulation that was 2.4% lower than in-store\n",
            "Should reconsider this item is 20.0% higher than in-store\n",
            "Nice, 22.7% lower than in-store\n",
            "2000000\n",
            "true\n"
          ]
        }
      ]
    },
    {
      "cell_type": "code",
      "source": [
        "import math"
      ],
      "metadata": {
        "id": "UdeqzL_V_Q4B"
      },
      "execution_count": null,
      "outputs": []
    },
    {
      "cell_type": "code",
      "source": [
        "import math\n",
        "\n",
        "def gcd(a, b):\n",
        "    while b: a, b = b, a % b\n",
        "    return a\n",
        "\n",
        "def solve_opt(L, R):\n",
        "  a = []\n",
        "  P = [True]*(R-L+1)\n",
        "\n",
        "  lim=int(math.sqrt(R)+1)\n",
        "  for i in range(2, lim, 1):\n",
        "    start = int(L/(i*i)+1)*i*i\n",
        "    for j in range(start, R+1, i*i):\n",
        "      P[j-L]=False\n",
        "\n",
        "  for i in range(L, R+1, 1):\n",
        "    if P[i-L]: a.append(i)\n",
        "\n",
        "  res=0\n",
        "  lim=len(a)\n",
        "  for i in range(lim-1):\n",
        "    for j in range(i+1, lim, 1):\n",
        "      if gcd(a[i],a[j])==1: res+=1\n",
        "  return res\n",
        "\n",
        "\n",
        "def checkSPN(x):\n",
        "  l = int(math.sqrt(x)+1)\n",
        "  for i in range(2, l, 1):\n",
        "    if (x%(i*i)==0): return False\n",
        "  return True\n",
        "\n",
        "def solve_not_opt(L, R):\n",
        "  a = []\n",
        "  for i in range(L, R+1, 1):\n",
        "    if checkSPN(i): a.append(i)\n",
        "  res=0\n",
        "  l=len(a)\n",
        "  for i in range(l-1):\n",
        "    for j in range(i+1, l, 1):\n",
        "      if gcd(a[i],a[j])==1: res+=1\n",
        "  return res\n",
        "\n",
        "count = 1\n",
        "import random\n",
        "L = random.randint(1, 10**9-1)\n",
        "R = random.randint(L+1, 10**9)\n",
        "\n",
        "#while(count<10):\n",
        "if(solve_opt(L, R)==solve_not_opt(L, R)):\n",
        "  print(\"Yes\")\n",
        "    #L = random.randint(1, 10**9-1)\n",
        "    #R = random.randint(L+1, 10**9)\n",
        "    #count+=1\n",
        "  #else:\n",
        "    #print(solve_opt(L, R), solve_not_opt(L, R))\n",
        "    #break"
      ],
      "metadata": {
        "id": "8966SXKx3suj"
      },
      "execution_count": null,
      "outputs": []
    },
    {
      "cell_type": "code",
      "source": [
        "for i in range(2, 8, 3):\n",
        "  print(i)"
      ],
      "metadata": {
        "colab": {
          "base_uri": "https://localhost:8080/"
        },
        "id": "pdgf6K8PR03Z",
        "outputId": "3e976d09-e75d-4982-9ff5-02ea4419343a"
      },
      "execution_count": null,
      "outputs": [
        {
          "output_type": "stream",
          "name": "stdout",
          "text": [
            "2\n",
            "5\n"
          ]
        }
      ]
    },
    {
      "cell_type": "code",
      "source": [
        "import random\n",
        "print(random.randint(1, 2))"
      ],
      "metadata": {
        "colab": {
          "base_uri": "https://localhost:8080/"
        },
        "id": "RNhDb7AYR3EE",
        "outputId": "52aee138-0101-42cc-edcd-c5beb0aebfa7"
      },
      "execution_count": null,
      "outputs": [
        {
          "output_type": "stream",
          "name": "stdout",
          "text": [
            "1\n"
          ]
        }
      ]
    },
    {
      "cell_type": "code",
      "source": [
        "import math\n",
        "\n",
        "def gcd(a, b):\n",
        "    while b: a, b = b, a % b\n",
        "    return a\n",
        "\n",
        "def solve_opt(L, R):\n",
        "  a = []\n",
        "  P = [True]*(R-L+1)\n",
        "\n",
        "  lim=int(math.sqrt(R)+1)\n",
        "  for i in range(2, lim, 1):\n",
        "    start = int(math.ceil(L/(i*i)))*i*i\n",
        "    for j in range(start, R+1, i*i):\n",
        "      P[j-L]=False\n",
        "\n",
        "  for i in range(L, R+1, 1):\n",
        "    if P[i-L]: a.append(i)\n",
        "\n",
        "  res=0\n",
        "  lim=len(a)\n",
        "  for i in range(lim-1):\n",
        "    for j in range(i+1, lim, 1):\n",
        "      if gcd(a[i],a[j])==1: res+=1\n",
        "  return res\n",
        "\n",
        "def check_special_number(number):\n",
        "    for i in range(2, int(math.sqrt(number))+1):\n",
        "        if (number%i**2==0):\n",
        "            return 0\n",
        "    return 1\n",
        "\n",
        "def solve_not_opt(L, R):\n",
        "    special_number = [i for i in range(L, R+1) if check_special_number(i)]\n",
        "    count = 0\n",
        "    for i in range(len(special_number)):\n",
        "        for j in range(i+1, len(special_number)):\n",
        "            if (check_special_number(special_number[i]*special_number[j])==1):\n",
        "                count = count + 1\n",
        "    return count\n",
        "\n",
        "count = 1\n",
        "import random\n",
        "L = random.randint(1, 10**2-1)\n",
        "R = random.randint(L+1, 10**2)\n",
        "\n",
        "while(count<100):\n",
        "  if(solve_opt(L, R)==solve_not_opt(L, R)):\n",
        "    print(\"Yes\")\n",
        "    L = random.randint(1, 10**2-1)\n",
        "    R = random.randint(L+1, 10**2)\n",
        "    count+=1\n",
        "  else:\n",
        "    print(f\"L {L}, R {R}\")\n",
        "    print(solve_opt(L, R), solve_not_opt(L, R))\n",
        "    break"
      ],
      "metadata": {
        "colab": {
          "base_uri": "https://localhost:8080/"
        },
        "id": "nnJKmU95aiUO",
        "outputId": "13be428d-630f-4773-df0b-484bed4172e1"
      },
      "execution_count": null,
      "outputs": [
        {
          "output_type": "stream",
          "name": "stdout",
          "text": [
            "Yes\n",
            "Yes\n",
            "Yes\n",
            "Yes\n",
            "Yes\n",
            "Yes\n",
            "Yes\n",
            "Yes\n",
            "Yes\n",
            "Yes\n",
            "Yes\n",
            "Yes\n",
            "Yes\n",
            "Yes\n",
            "Yes\n",
            "Yes\n",
            "Yes\n",
            "Yes\n",
            "Yes\n",
            "Yes\n",
            "Yes\n",
            "Yes\n",
            "Yes\n",
            "Yes\n",
            "Yes\n",
            "Yes\n",
            "Yes\n",
            "Yes\n",
            "Yes\n",
            "Yes\n",
            "Yes\n",
            "Yes\n",
            "Yes\n",
            "Yes\n",
            "Yes\n",
            "Yes\n",
            "Yes\n",
            "Yes\n",
            "Yes\n",
            "Yes\n",
            "Yes\n",
            "Yes\n",
            "Yes\n",
            "Yes\n",
            "Yes\n",
            "Yes\n",
            "Yes\n",
            "Yes\n",
            "Yes\n",
            "Yes\n",
            "Yes\n",
            "Yes\n",
            "Yes\n",
            "Yes\n",
            "Yes\n",
            "Yes\n",
            "Yes\n",
            "Yes\n",
            "Yes\n",
            "Yes\n",
            "Yes\n",
            "Yes\n",
            "Yes\n",
            "Yes\n",
            "Yes\n",
            "Yes\n",
            "Yes\n",
            "Yes\n",
            "Yes\n",
            "Yes\n",
            "Yes\n",
            "Yes\n",
            "Yes\n",
            "Yes\n",
            "Yes\n",
            "Yes\n",
            "Yes\n",
            "Yes\n",
            "Yes\n",
            "Yes\n",
            "Yes\n",
            "Yes\n",
            "Yes\n",
            "Yes\n",
            "Yes\n",
            "Yes\n",
            "Yes\n",
            "Yes\n",
            "Yes\n",
            "Yes\n",
            "Yes\n",
            "Yes\n",
            "Yes\n",
            "Yes\n",
            "Yes\n",
            "Yes\n",
            "Yes\n",
            "Yes\n",
            "Yes\n"
          ]
        }
      ]
    },
    {
      "cell_type": "code",
      "source": [
        "import math\n",
        "\n",
        "def gcd(a, b):\n",
        "    while b: a, b = b, a % b\n",
        "    return a\n",
        "\n",
        "def solve():\n",
        "  L, R = map(int, input().split())\n",
        "  check = [True]*(R-L+1)\n",
        "  SpN = []\n",
        "  res=0\n",
        "\n",
        "  lim=int(math.sqrt(R)+1)\n",
        "  for i in range(2, lim, 1):\n",
        "    start = math.ceil(L/(i*i))*i*i\n",
        "    for j in range(start, R+1, i*i):\n",
        "      check[j-L]=False\n",
        "\n",
        "  for i in range(L, R+1):\n",
        "    if check[i-L]: SpN.append(i)\n",
        "\n",
        "  for i in range(len(a)-1):\n",
        "    for j in range(i+1, len(a)):\n",
        "      if gcd(SpN[i],SpN[j])==1: res+=1\n",
        "  print(res)\n",
        "\n",
        "if __name__==\"__main__\":\n",
        "  solve()"
      ],
      "metadata": {
        "colab": {
          "base_uri": "https://localhost:8080/"
        },
        "id": "LltFjSnWb87m",
        "outputId": "a78e314e-b667-440b-c1f9-ae4b7a6dce76"
      },
      "execution_count": null,
      "outputs": [
        {
          "output_type": "stream",
          "name": "stdout",
          "text": [
            "25 707\n",
            "67221\n"
          ]
        }
      ]
    },
    {
      "cell_type": "code",
      "source": [
        "import math\n",
        "type(math.ceil(4.5))"
      ],
      "metadata": {
        "colab": {
          "base_uri": "https://localhost:8080/"
        },
        "id": "qiRMHLxdHEql",
        "outputId": "e9c26c8d-f4c1-490b-ba52-4f32b5c33e37"
      },
      "execution_count": null,
      "outputs": [
        {
          "output_type": "execute_result",
          "data": {
            "text/plain": [
              "int"
            ]
          },
          "metadata": {},
          "execution_count": 3
        }
      ]
    },
    {
      "cell_type": "code",
      "source": [
        "import math\n",
        "\n",
        "def checkSPN(x):\n",
        "  for i in range(2, int(math.sqrt(x)+1), 1):\n",
        "    if (x%(i*i)==0): return False\n",
        "  return True\n",
        "\n",
        "def gcd(a, b):\n",
        "    while b: a, b = b, a % b\n",
        "    return a\n",
        "\n",
        "def solve2():\n",
        "  inp = input().split()\n",
        "  L = int(inp[0])\n",
        "  R = int(inp[1])\n",
        "  a = []\n",
        "  for i in range(L, R+1, 1):\n",
        "    if checkSPN(i): a.append(i)\n",
        "  res=0\n",
        "  l=len(a)\n",
        "  print(l)\n",
        "  for i in range(l-1):\n",
        "    for j in range(i+1, l, 1):\n",
        "      if gcd(a[i],a[j])==1: res+=1\n",
        "  print(res)\n",
        "  return a\n",
        "\n",
        "if __name__==\"__main__\":\n",
        "  a2 = solve2()"
      ],
      "metadata": {
        "colab": {
          "base_uri": "https://localhost:8080/"
        },
        "id": "O6dvtFPmcDqL",
        "outputId": "61aedf94-5ecb-4949-98ff-235204047233"
      },
      "execution_count": null,
      "outputs": [
        {
          "output_type": "stream",
          "name": "stdout",
          "text": [
            "25 707\n",
            "417\n",
            "67221\n"
          ]
        }
      ]
    },
    {
      "cell_type": "code",
      "source": [
        "print(a1)"
      ],
      "metadata": {
        "colab": {
          "base_uri": "https://localhost:8080/"
        },
        "id": "7Dz5rDd5cdkD",
        "outputId": "bc582130-5987-4efa-c131-96a690d43e39"
      },
      "execution_count": null,
      "outputs": [
        {
          "output_type": "stream",
          "name": "stdout",
          "text": [
            "[25, 26, 29, 30, 31, 33, 34, 35, 37, 38, 39, 41, 42, 43, 46, 47, 51, 53, 55, 57, 58, 59, 61, 62, 65, 66, 67, 69, 70, 71, 73, 74, 77, 78, 79, 82, 83, 85, 86, 87, 89, 91, 93, 94, 95, 97, 101, 102, 103, 105, 106, 107, 109, 110, 111, 113, 114, 115, 118, 119, 122, 123, 127, 129, 130, 131, 133, 134, 137, 138, 139, 141, 142, 143, 145, 146, 149, 151, 154, 155, 157, 158, 159, 161, 163, 165, 166, 167, 170, 173, 174, 177, 178, 179, 181, 182, 183, 185, 186, 187, 190, 191, 193, 194, 195, 197, 199, 201, 202, 203, 205, 206, 209, 210, 211, 213, 214, 215, 217, 218, 219, 221, 222, 223, 226, 227, 229, 230, 231, 233, 235, 237, 238, 239, 241, 246, 247, 249, 251, 253, 254, 255, 257, 258, 259, 262, 263, 265, 266, 267, 269, 271, 273, 274, 277, 278, 281, 282, 283, 285, 286, 287, 290, 291, 293, 295, 298, 299, 301, 302, 303, 305, 307, 309, 310, 311, 313, 314, 317, 318, 319, 321, 322, 323, 326, 327, 329, 330, 331, 334, 335, 337, 339, 341, 345, 346, 347, 349, 353, 354, 355, 357, 358, 359, 362, 365, 366, 367, 370, 371, 373, 374, 377, 379, 381, 382, 383, 385, 386, 389, 390, 391, 393, 394, 395, 397, 398, 399, 401, 402, 403, 406, 407, 409, 410, 411, 413, 415, 417, 418, 419, 421, 422, 426, 427, 429, 430, 431, 433, 434, 435, 437, 438, 439, 442, 443, 445, 446, 447, 449, 451, 453, 454, 455, 457, 458, 461, 462, 463, 465, 466, 467, 469, 470, 471, 473, 474, 478, 479, 481, 482, 483, 485, 487, 489, 491, 493, 494, 497, 498, 499, 501, 502, 503, 505, 506, 509, 510, 511, 514, 515, 517, 518, 519, 521, 523, 526, 527, 530, 533, 534, 535, 537, 538, 541, 542, 543, 545, 546, 547, 551, 553, 554, 555, 557, 559, 561, 562, 563, 565, 566, 569, 570, 571, 573, 574, 577, 579, 581, 582, 583, 586, 587, 589, 590, 591, 593, 595, 597, 598, 599, 601, 602, 606, 607, 609, 610, 611, 613, 614, 615, 617, 618, 619, 622, 623, 626, 627, 629, 631, 633, 634, 635, 638, 641, 642, 643, 645, 646, 647, 649, 651, 653, 654, 655, 658, 659, 661, 662, 663, 665, 667, 669, 670, 671, 673, 674, 677, 678, 679, 681, 682, 683, 685, 687, 689, 690, 691, 694, 695, 697, 698, 699, 701, 703, 705, 706, 707]\n"
          ]
        }
      ]
    },
    {
      "cell_type": "code",
      "source": [
        "print(a2)"
      ],
      "metadata": {
        "colab": {
          "base_uri": "https://localhost:8080/"
        },
        "id": "5vxYGyDlcfi-",
        "outputId": "8884a5b9-3a30-469b-bb38-31754f6f22fd"
      },
      "execution_count": null,
      "outputs": [
        {
          "output_type": "stream",
          "name": "stdout",
          "text": [
            "[26, 29, 30, 31, 33, 34, 35, 37, 38, 39, 41, 42, 43, 46, 47, 51, 53, 55, 57, 58, 59, 61, 62, 65, 66, 67, 69, 70, 71, 73, 74, 77, 78, 79, 82, 83, 85, 86, 87, 89, 91, 93, 94, 95, 97, 101, 102, 103, 105, 106, 107, 109, 110, 111, 113, 114, 115, 118, 119, 122, 123, 127, 129, 130, 131, 133, 134, 137, 138, 139, 141, 142, 143, 145, 146, 149, 151, 154, 155, 157, 158, 159, 161, 163, 165, 166, 167, 170, 173, 174, 177, 178, 179, 181, 182, 183, 185, 186, 187, 190, 191, 193, 194, 195, 197, 199, 201, 202, 203, 205, 206, 209, 210, 211, 213, 214, 215, 217, 218, 219, 221, 222, 223, 226, 227, 229, 230, 231, 233, 235, 237, 238, 239, 241, 246, 247, 249, 251, 253, 254, 255, 257, 258, 259, 262, 263, 265, 266, 267, 269, 271, 273, 274, 277, 278, 281, 282, 283, 285, 286, 287, 290, 291, 293, 295, 298, 299, 301, 302, 303, 305, 307, 309, 310, 311, 313, 314, 317, 318, 319, 321, 322, 323, 326, 327, 329, 330, 331, 334, 335, 337, 339, 341, 345, 346, 347, 349, 353, 354, 355, 357, 358, 359, 362, 365, 366, 367, 370, 371, 373, 374, 377, 379, 381, 382, 383, 385, 386, 389, 390, 391, 393, 394, 395, 397, 398, 399, 401, 402, 403, 406, 407, 409, 410, 411, 413, 415, 417, 418, 419, 421, 422, 426, 427, 429, 430, 431, 433, 434, 435, 437, 438, 439, 442, 443, 445, 446, 447, 449, 451, 453, 454, 455, 457, 458, 461, 462, 463, 465, 466, 467, 469, 470, 471, 473, 474, 478, 479, 481, 482, 483, 485, 487, 489, 491, 493, 494, 497, 498, 499, 501, 502, 503, 505, 506, 509, 510, 511, 514, 515, 517, 518, 519, 521, 523, 526, 527, 530, 533, 534, 535, 537, 538, 541, 542, 543, 545, 546, 547, 551, 553, 554, 555, 557, 559, 561, 562, 563, 565, 566, 569, 570, 571, 573, 574, 577, 579, 581, 582, 583, 586, 587, 589, 590, 591, 593, 595, 597, 598, 599, 601, 602, 606, 607, 609, 610, 611, 613, 614, 615, 617, 618, 619, 622, 623, 626, 627, 629, 631, 633, 634, 635, 638, 641, 642, 643, 645, 646, 647, 649, 651, 653, 654, 655, 658, 659, 661, 662, 663, 665, 667, 669, 670, 671, 673, 674, 677, 678, 679, 681, 682, 683, 685, 687, 689, 690, 691, 694, 695, 697, 698, 699, 701, 703, 705, 706, 707]\n"
          ]
        }
      ]
    },
    {
      "cell_type": "code",
      "source": [
        "print(math.ceil(4.1))"
      ],
      "metadata": {
        "colab": {
          "base_uri": "https://localhost:8080/"
        },
        "id": "LjY_81MJeBe3",
        "outputId": "db739b55-dbe9-44d4-9f1b-7eecb4ca1822"
      },
      "execution_count": null,
      "outputs": [
        {
          "output_type": "stream",
          "name": "stdout",
          "text": [
            "5\n"
          ]
        }
      ]
    },
    {
      "cell_type": "code",
      "source": [
        "s = \"Contratulation that was 2.4% lower than in-store lmao\"\n",
        "sr = \" \".join(s.split()[::-1])"
      ],
      "metadata": {
        "id": "bwPfeyqn9-Z6"
      },
      "execution_count": null,
      "outputs": []
    },
    {
      "cell_type": "code",
      "source": [
        "print(sr)"
      ],
      "metadata": {
        "colab": {
          "base_uri": "https://localhost:8080/"
        },
        "id": "jLiYLHQb-Ue_",
        "outputId": "67917214-4d98-44fe-bacf-e0a61d6ce8ca"
      },
      "execution_count": null,
      "outputs": [
        {
          "output_type": "stream",
          "name": "stdout",
          "text": [
            "lmao in-store than lower 2.4% was that Contratulation\n"
          ]
        }
      ]
    },
    {
      "cell_type": "code",
      "source": [
        "print(sr[sr.find()+14:].split(maxsplit=2))"
      ],
      "metadata": {
        "colab": {
          "base_uri": "https://localhost:8080/"
        },
        "id": "awEOzhKq-Wng",
        "outputId": "a3ab1666-a174-4c2b-88e2-30b8fbf3a9a4"
      },
      "execution_count": null,
      "outputs": [
        {
          "output_type": "stream",
          "name": "stdout",
          "text": [
            "['lower', '2.4%', 'was that Contratulation']\n"
          ]
        }
      ]
    },
    {
      "cell_type": "code",
      "source": [
        "def is_not_float(s):\n",
        "    try:\n",
        "        float(s)\n",
        "        return False\n",
        "    except ValueError:\n",
        "        return True\n",
        "\n",
        "def check(s):\n",
        "  if is_not_float(s[0][:-1]): return False\n",
        "  elif s[0][-1]!='%': return False\n",
        "  elif s[0][0]=='-': return False\n",
        "  elif s[1]!='lower' and s[1]!='higher': return False\n",
        "  elif s[1]=='higher' and float(s[0][:-1])>=100.: return False\n",
        "  elif s[2]!='than': return False\n",
        "  elif s[3]!='in-store': return False\n",
        "  return True\n",
        "\n",
        "def ProcStr(s):\n",
        "  s = s.split()\n",
        "  l = len(s)-3\n",
        "  i = -1\n",
        "  for j in range(l):\n",
        "    if check(s[j:j+4]):\n",
        "      i=j\n",
        "      break\n",
        "  if(i==-1): return 1, 0\n",
        "  return 1 if s[i+1]=='lower' else -1, float(s[i][:-1])\n",
        "\n",
        "def solve():\n",
        "  inp = [int(i) for i in input().split()]\n",
        "  n = len(inp)\n",
        "  delta = []\n",
        "  for i in range(n):\n",
        "    s = input()\n",
        "    symb, sale = ProcStr(s)\n",
        "    delta.append(inp[i]*symb*sale/100)\n",
        "  budget = float(input())\n",
        "  delta = min(sum(delta), 0)\n",
        "  total = sum(inp) + delta\n",
        "  #print(total)\n",
        "  if(budget>=total): print(\"true\")\n",
        "  else: print(\"false\")\n",
        "\n",
        "if __name__==\"__main__\":\n",
        "  solve()"
      ],
      "metadata": {
        "colab": {
          "base_uri": "https://localhost:8080/"
        },
        "id": "vpmABicL_XRY",
        "outputId": "42fa1f89-11b3-4034-a293-a9a2e1da7bee"
      },
      "execution_count": null,
      "outputs": [
        {
          "output_type": "stream",
          "name": "stdout",
          "text": [
            "501700 989900 254900\n",
            "Contratulation that was 2.4% lower than in-store\n",
            "Should reconsider this item is 200.0% higher than in-store -20.0% higher than in-store 20.0% higher than in-store\n",
            "Nice, 22.7% lower than in-store\n",
            "1618423.1\n",
            "1618423.1\n",
            "true\n"
          ]
        }
      ]
    },
    {
      "cell_type": "code",
      "source": [
        "a = [1,2,3,4]\n",
        "print(a[0:3])\n",
        "#Should reconsider this item is 200.0% higher than in-store -20.0% higher than in-store 20.0% higher than in-store"
      ],
      "metadata": {
        "colab": {
          "base_uri": "https://localhost:8080/"
        },
        "id": "X9agt5FLQvKX",
        "outputId": "c84f631e-79c9-4676-863c-fe451322eaec"
      },
      "execution_count": null,
      "outputs": [
        {
          "output_type": "stream",
          "name": "stdout",
          "text": [
            "[1, 2, 3]\n"
          ]
        }
      ]
    },
    {
      "cell_type": "code",
      "source": [
        "501700+ 989900+ 254900"
      ],
      "metadata": {
        "colab": {
          "base_uri": "https://localhost:8080/"
        },
        "id": "MvawsikkIX2H",
        "outputId": "b225976f-35fe-4a4b-ea1f-77af161b3a46"
      },
      "execution_count": null,
      "outputs": [
        {
          "output_type": "execute_result",
          "data": {
            "text/plain": [
              "1746500"
            ]
          },
          "metadata": {},
          "execution_count": 5
        }
      ]
    },
    {
      "cell_type": "code",
      "source": [
        "501700*(1.024) + 989900*(0.8) + 254900*(1.227)"
      ],
      "metadata": {
        "colab": {
          "base_uri": "https://localhost:8080/"
        },
        "id": "qLk2tmgqIDjc",
        "outputId": "b730b29d-29f4-471d-9076-fd880ba1a9bb"
      },
      "execution_count": null,
      "outputs": [
        {
          "output_type": "execute_result",
          "data": {
            "text/plain": [
              "1618423.1"
            ]
          },
          "metadata": {},
          "execution_count": 4
        }
      ]
    },
    {
      "cell_type": "code",
      "source": [
        "print(ProcStr(\"Should reconsider this item is 20.0% lower than in-store\"))"
      ],
      "metadata": {
        "colab": {
          "base_uri": "https://localhost:8080/"
        },
        "id": "0GOHFexFBMs6",
        "outputId": "4a42c8d3-ee95-4e50-cf68-138da480e93f"
      },
      "execution_count": null,
      "outputs": [
        {
          "output_type": "stream",
          "name": "stdout",
          "text": [
            "(-1, 20.0)\n"
          ]
        }
      ]
    },
    {
      "cell_type": "code",
      "source": [
        "f = \"in-store than\"\n",
        "print(len(f))"
      ],
      "metadata": {
        "colab": {
          "base_uri": "https://localhost:8080/"
        },
        "id": "RlpVWaKz_yuF",
        "outputId": "e3158416-1046-46a5-9132-090979998df0"
      },
      "execution_count": null,
      "outputs": [
        {
          "output_type": "stream",
          "name": "stdout",
          "text": [
            "13\n"
          ]
        }
      ]
    },
    {
      "cell_type": "code",
      "source": [
        "f[-2:]"
      ],
      "metadata": {
        "colab": {
          "base_uri": "https://localhost:8080/",
          "height": 36
        },
        "id": "4de4deeHF6-e",
        "outputId": "63e2f95b-4f4a-466c-e3fa-df9276f91d35"
      },
      "execution_count": null,
      "outputs": [
        {
          "output_type": "execute_result",
          "data": {
            "text/plain": [
              "'an'"
            ],
            "application/vnd.google.colaboratory.intrinsic+json": {
              "type": "string"
            }
          },
          "metadata": {},
          "execution_count": 31
        }
      ]
    },
    {
      "cell_type": "code",
      "source": [
        "def is_float(s):\n",
        "    try:\n",
        "        float(s)\n",
        "        return True\n",
        "    except ValueError:\n",
        "        return False\n",
        "\n",
        "is_float('')"
      ],
      "metadata": {
        "colab": {
          "base_uri": "https://localhost:8080/"
        },
        "id": "FJ_s-vG_H4f0",
        "outputId": "33ab8cc9-2523-4ced-e77f-bdb72242e4f6"
      },
      "execution_count": null,
      "outputs": [
        {
          "output_type": "execute_result",
          "data": {
            "text/plain": [
              "True"
            ]
          },
          "metadata": {},
          "execution_count": 35
        }
      ]
    },
    {
      "cell_type": "code",
      "source": [
        "import math\n",
        "\n",
        "def solve():\n",
        "  d = int(input())\n",
        "  start = math.ceil(d/(2**0.5))\n",
        "  end = math.floor((d*d-1)**0.5+1)\n",
        "  ps = [0]*(d*d)\n",
        "  for i in range(start, end):\n",
        "    ps[i*i]=1\n",
        "  res=0\n",
        "  l = int(d/(2**0.5))+1\n",
        "  for w in range(1, l):\n",
        "    res+=ps[d*d-w*w]\n",
        "  print(res)\n",
        "\n",
        "if __name__==\"__main__\":\n",
        "  solve()"
      ],
      "metadata": {
        "colab": {
          "base_uri": "https://localhost:8080/"
        },
        "id": "5dkjVRXkVT-H",
        "outputId": "bb844d24-5623-42d4-d60c-1572518d9e39"
      },
      "execution_count": null,
      "outputs": [
        {
          "output_type": "stream",
          "name": "stdout",
          "text": [
            "26\n",
            "1\n"
          ]
        }
      ]
    },
    {
      "cell_type": "code",
      "source": [
        "def find_pythagorean_triplets(n):\n",
        "    triplets = []\n",
        "    for a in range(1, n):\n",
        "        for b in range(a, n):\n",
        "            c_squared = a**2 + b**2\n",
        "            c = int(c_squared ** 0.5)\n",
        "            if c_squared == c**2 and c==n:\n",
        "                triplets.append((a, b))\n",
        "    return triplets\n",
        "\n",
        "print(find_pythagorean_triplets(325))\n"
      ],
      "metadata": {
        "colab": {
          "base_uri": "https://localhost:8080/"
        },
        "id": "QqP9BJwQZFy8",
        "outputId": "bce87389-ff48-4287-c5a2-7d1f7022f3e0"
      },
      "execution_count": null,
      "outputs": [
        {
          "output_type": "stream",
          "name": "stdout",
          "text": [
            "[(36, 323), (80, 315), (91, 312), (125, 300), (165, 280), (195, 260), (204, 253)]\n"
          ]
        }
      ]
    },
    {
      "cell_type": "code",
      "source": [
        "def solve():\n",
        "  d = int(input())\n",
        "  res = 0\n",
        "  l = int(d/(2**0.5))+1\n",
        "  for w in range(1, l):\n",
        "    h_square = d*d - w*w\n",
        "    h = int(h_square**0.5)\n",
        "    if(h*h == h_square): res+=1\n",
        "  print(res)\n",
        "\n",
        "if __name__==\"__main__\":\n",
        "  solve()"
      ],
      "metadata": {
        "id": "mOi9bZj9q3Th"
      },
      "execution_count": null,
      "outputs": []
    },
    {
      "cell_type": "code",
      "source": [
        "a = [1,2,3,4]\n",
        "print(a[5])"
      ],
      "metadata": {
        "colab": {
          "base_uri": "https://localhost:8080/",
          "height": 158
        },
        "id": "hVwPK-mRLoYB",
        "outputId": "a65f5804-91ea-49f7-a27b-dc57fa41f319"
      },
      "execution_count": null,
      "outputs": [
        {
          "output_type": "error",
          "ename": "IndexError",
          "evalue": "list index out of range",
          "traceback": [
            "\u001b[0;31m---------------------------------------------------------------------------\u001b[0m",
            "\u001b[0;31mIndexError\u001b[0m                                Traceback (most recent call last)",
            "\u001b[0;32m<ipython-input-7-0d290ba5300b>\u001b[0m in \u001b[0;36m<cell line: 2>\u001b[0;34m()\u001b[0m\n\u001b[1;32m      1\u001b[0m \u001b[0ma\u001b[0m \u001b[0;34m=\u001b[0m \u001b[0;34m[\u001b[0m\u001b[0;36m1\u001b[0m\u001b[0;34m,\u001b[0m\u001b[0;36m2\u001b[0m\u001b[0;34m,\u001b[0m\u001b[0;36m3\u001b[0m\u001b[0;34m,\u001b[0m\u001b[0;36m4\u001b[0m\u001b[0;34m]\u001b[0m\u001b[0;34m\u001b[0m\u001b[0;34m\u001b[0m\u001b[0m\n\u001b[0;32m----> 2\u001b[0;31m \u001b[0mprint\u001b[0m\u001b[0;34m(\u001b[0m\u001b[0ma\u001b[0m\u001b[0;34m[\u001b[0m\u001b[0;36m5\u001b[0m\u001b[0;34m]\u001b[0m\u001b[0;34m)\u001b[0m\u001b[0;34m\u001b[0m\u001b[0;34m\u001b[0m\u001b[0m\n\u001b[0m",
            "\u001b[0;31mIndexError\u001b[0m: list index out of range"
          ]
        }
      ]
    },
    {
      "cell_type": "code",
      "source": [
        "float(\"2121212\")"
      ],
      "metadata": {
        "colab": {
          "base_uri": "https://localhost:8080/"
        },
        "id": "sFvkw2_AMecw",
        "outputId": "69d461af-a3cb-4a27-9209-7263c871ae6a"
      },
      "execution_count": null,
      "outputs": [
        {
          "output_type": "execute_result",
          "data": {
            "text/plain": [
              "2121212.0"
            ]
          },
          "metadata": {},
          "execution_count": 16
        }
      ]
    },
    {
      "cell_type": "code",
      "source": [
        "def solve():\n",
        "  rc = input().split()\n",
        "  r = int(rc[0])\n",
        "  c = int(rc[1])\n",
        "  M = [[] for _ in range(r)]\n",
        "  for i in range(r):\n",
        "    M[i] = input()\n",
        "  for i in range(r-1, -1, -1):\n",
        "    print(M[i])\n",
        "\n",
        "if __name__==\"__main__\":\n",
        "  solve()"
      ],
      "metadata": {
        "colab": {
          "base_uri": "https://localhost:8080/"
        },
        "id": "Mc0tyhlic1HH",
        "outputId": "b268f5bf-7e6f-4391-a83d-5fdb4a53fef1"
      },
      "execution_count": null,
      "outputs": [
        {
          "output_type": "stream",
          "name": "stdout",
          "text": [
            "5 5\n",
            "28913 26846 85 19649 8524\n",
            "970 31692 11666 2213 6747\n",
            "22640 18740 30793 9860 15977\n",
            "24997 18366 18071 8766 20104\n",
            "18223 27172 2671 101 2170\n",
            "18223 27172 2671 101 2170\n",
            "24997 18366 18071 8766 20104\n",
            "22640 18740 30793 9860 15977\n",
            "970 31692 11666 2213 6747\n",
            "28913 26846 85 19649 8524\n"
          ]
        }
      ]
    },
    {
      "cell_type": "code",
      "source": [
        "a = [[1,2,3], []]\n",
        "\n",
        "print(a)"
      ],
      "metadata": {
        "colab": {
          "base_uri": "https://localhost:8080/"
        },
        "id": "5wf86NJrdzDm",
        "outputId": "a48361cc-1ec0-4009-839b-62e60b81309d"
      },
      "execution_count": null,
      "outputs": [
        {
          "output_type": "stream",
          "name": "stdout",
          "text": [
            "[[1, 2, 3], []]\n"
          ]
        }
      ]
    },
    {
      "cell_type": "code",
      "source": [
        "def solve():\n",
        "  r, c = map(int, input().split())\n",
        "  M = [[\"\"]*c for _ in range(r)]\n",
        "  max_len = [0]*c\n",
        "\n",
        "  for i in range(r):\n",
        "    row = input().split()\n",
        "    for j in range(c):\n",
        "      M[i][j]=row[j]\n",
        "      max_len[j] = max(max_len[j], len(row[j]))\n",
        "\n",
        "  for i in range(r):\n",
        "    for j in range(c):\n",
        "      lack = max_len[j]-len(M[i][j])\n",
        "      space = \" \"*lack\n",
        "      print(space+M[i][j], end=' ')\n",
        "    #lack = max_len[c-1]-len(M[i][c-1])\n",
        "    #space = \" \"*lack\n",
        "    #print(space+M[i][c-1])\n",
        "\n",
        "if __name__==\"__main__\":\n",
        "  solve()"
      ],
      "metadata": {
        "colab": {
          "base_uri": "https://localhost:8080/"
        },
        "id": "vCgB6BouemQK",
        "outputId": "34752712-242f-4134-aee4-1c5966358dc0"
      },
      "execution_count": null,
      "outputs": [
        {
          "output_type": "stream",
          "name": "stdout",
          "text": [
            "5 5\n",
            "28913 26846 85 19649 8524\n",
            "7970 31692 11666 2213 6747\n",
            "22640 18740 30793 9860 15977\n",
            "24997 18366 18071 8766 20104\n",
            "18223 27172 2671 101 2170\n",
            "28913 26846    85 19649  8524\n",
            " 7970 31692 11666  2213  6747\n",
            "22640 18740 30793  9860 15977\n",
            "24997 18366 18071  8766 20104\n",
            "18223 27172  2671   101  2170\n"
          ]
        }
      ]
    },
    {
      "cell_type": "code",
      "source": [
        "def solve():\n",
        "  rc = input().split()\n",
        "  r = int(rc[0])\n",
        "  c = int(rc[1])\n",
        "  M = [[0]*(c+2) for _ in range(r+2)]\n",
        "  for i in range(1, r+1, 1):\n",
        "    row = input().split()\n",
        "    for j in range(1, c+1, 1):\n",
        "      M[i][j] = int(row[j-1])\n",
        "  res = 0\n",
        "  for i in range(1, r+1, 1):\n",
        "    for j in range(1, c+1, 1):\n",
        "      res += (4 - M[i-1][j] - M[i+1][j] - M[i][j-1] - M[i][j+1])*M[i][j]\n",
        "  print(res)\n",
        "\n",
        "if __name__==\"__main__\":\n",
        "  solve()"
      ],
      "metadata": {
        "colab": {
          "base_uri": "https://localhost:8080/"
        },
        "id": "2e7nyglPh-LS",
        "outputId": "2429a9dc-208c-4c80-9195-6f8a93d484eb"
      },
      "execution_count": null,
      "outputs": [
        {
          "output_type": "stream",
          "name": "stdout",
          "text": [
            "3 3\n",
            "0 1 1\n",
            "1 1 0\n",
            "1 0 0\n",
            "0\n",
            "2\n",
            "3\n",
            "2\n",
            "2\n",
            "0\n",
            "3\n",
            "0\n",
            "0\n",
            "12\n"
          ]
        }
      ]
    },
    {
      "cell_type": "code",
      "source": [
        "def dfs(i, j, visited):\n",
        "  visited[i][j] = True\n",
        "  if visited[i][j+1]==False : dfs(i, j+1, visited)\n",
        "  if visited[i+1][j]==False : dfs(i+1, j, visited)\n",
        "  if visited[i][j-1]==False : dfs(i, j-1, visited)\n",
        "  if visited[i-1][j]==False : dfs(i-1, j, visited)\n",
        "\n",
        "def solve():\n",
        "  r,c = map(int, input().split())\n",
        "  visited = [[True]*(c+2) for _ in range(r+2)]\n",
        "\n",
        "  for i in range(1, r+1):\n",
        "    row = input()\n",
        "    for j in range(1, c+1):\n",
        "      if(row[j-1]=='-'): visited[i][j]=False\n",
        "\n",
        "  res = 0\n",
        "  for i in range(1, r+1):\n",
        "    for j in range(1, c+1):\n",
        "      if visited[i][j]==False:\n",
        "        dfs(i, j, visited)\n",
        "        res+=1\n",
        "  print(res)\n",
        "\n",
        "if __name__==\"__main__\":\n",
        "  solve()"
      ],
      "metadata": {
        "id": "XUwK2_-2lqJC",
        "colab": {
          "base_uri": "https://localhost:8080/"
        },
        "outputId": "2c1a2c58-d24c-4cfd-92ad-93d8576ae184"
      },
      "execution_count": null,
      "outputs": [
        {
          "output_type": "stream",
          "name": "stdout",
          "text": [
            "10 20\n",
            "#################---\n",
            "##-###############--\n",
            "#---################\n",
            "##-#################\n",
            "########---#########\n",
            "#######-----########\n",
            "########---#########\n",
            "##################--\n",
            "#################---\n",
            "##################-#\n",
            "4\n"
          ]
        }
      ]
    },
    {
      "cell_type": "code",
      "source": [
        "if []: print('true')\n",
        "else: print(\"false\")"
      ],
      "metadata": {
        "colab": {
          "base_uri": "https://localhost:8080/"
        },
        "id": "VvzAXZyj6GKP",
        "outputId": "ad26d235-90df-4ce4-b28b-33ba85e6901d"
      },
      "execution_count": null,
      "outputs": [
        {
          "output_type": "stream",
          "name": "stdout",
          "text": [
            "false\n"
          ]
        }
      ]
    },
    {
      "cell_type": "code",
      "source": [
        "def solve():\n",
        "  n = int(input())\n",
        "  l = []\n",
        "  for i in range(n):\n",
        "    l.append(int(input()))\n",
        "  l.sort()\n",
        "  res = 0\n",
        "  for i in range(1, n, 1):\n",
        "    res += l[i]-l[i-1]-1\n",
        "  print(res)\n",
        "\n",
        "if __name__==\"__main__\":\n",
        "  solve()"
      ],
      "metadata": {
        "colab": {
          "base_uri": "https://localhost:8080/"
        },
        "id": "26Zs6QYHrPux",
        "outputId": "051c3c9f-4575-41e3-d9e5-cecdde97be66"
      },
      "execution_count": null,
      "outputs": [
        {
          "output_type": "stream",
          "name": "stdout",
          "text": [
            "4\n",
            "6\n",
            "2\n",
            "3\n",
            "8\n",
            "3\n"
          ]
        }
      ]
    },
    {
      "cell_type": "code",
      "source": [
        "def solve():\n",
        "  n = int(input())\n",
        "  l = int((n+1)/2)\n",
        "  a = []\n",
        "  flag = -1\n",
        "  for i in range(l):\n",
        "    a.append(int(input()))\n",
        "  for i in range(l, n, 1):\n",
        "    a.append(int(input()))\n",
        "    if(a[i]!=a[n-1-i]): flag+=1\n",
        "  if flag: print(\"FALSE\")\n",
        "  else: print(\"TRUE\")\n",
        "\n",
        "if __name__==\"__main__\":\n",
        "  solve()"
      ],
      "metadata": {
        "colab": {
          "base_uri": "https://localhost:8080/"
        },
        "id": "CUK0GVsF1an5",
        "outputId": "e7d8a130-fc95-4aed-c871-6f5041a68665"
      },
      "execution_count": null,
      "outputs": [
        {
          "output_type": "stream",
          "name": "stdout",
          "text": [
            "2\n",
            "1\n",
            "2\n",
            "TRUE\n"
          ]
        }
      ]
    },
    {
      "cell_type": "code",
      "source": [
        "def check(A, B, C):\n",
        "  AB = [B[0]-A[0], B[1]-A[1]]\n",
        "  BC = [C[0]-B[0], C[1]-B[1]]\n",
        "  if(AB[0]==-BC[1] and AB[1]==BC[0]): return True\n",
        "  return False\n",
        "\n",
        "def solve():\n",
        "  n = int(input())\n",
        "  res = 0\n",
        "  c = [[0, 0] for _ in range(n)]\n",
        "  for i in range(2):\n",
        "    cor = input().split()\n",
        "    c[i][0] = int(cor[0])\n",
        "    c[i][1] = int(cor[1])\n",
        "  for i in range(2, n, 1):\n",
        "    cor = input().split()\n",
        "    c[i][0] = int(cor[0])\n",
        "    c[i][1] = int(cor[1])\n",
        "    if check(c[i-2], c[i-1], c[i]): res+=1\n",
        "  print(res)\n",
        "\n",
        "if __name__==\"__main__\":\n",
        "  solve()"
      ],
      "metadata": {
        "colab": {
          "base_uri": "https://localhost:8080/"
        },
        "id": "-GN8m6net6k1",
        "outputId": "96b6b0cb-83f0-4c22-f42b-6fc564dc3fd9"
      },
      "execution_count": null,
      "outputs": [
        {
          "output_type": "stream",
          "name": "stdout",
          "text": [
            "8\n",
            "0 0\n",
            "-1 0\n",
            "-2 0\n",
            "-1 0\n",
            "-1 1\n",
            "-1 2\n",
            "0 2\n",
            "0 3\n",
            "1\n"
          ]
        }
      ]
    },
    {
      "cell_type": "code",
      "source": [
        "a = [[0, 0] for ]\n",
        "a[1][0] = 1\n",
        "\n",
        "print(a)"
      ],
      "metadata": {
        "colab": {
          "base_uri": "https://localhost:8080/"
        },
        "id": "-ogUy1ZIzTXE",
        "outputId": "5b030c32-a220-4111-b825-73b7d4a1b562"
      },
      "execution_count": null,
      "outputs": [
        {
          "output_type": "stream",
          "name": "stdout",
          "text": [
            "[[1, 0], [1, 0], [1, 0], [1, 0], [1, 0], [1, 0], [1, 0], [1, 0], [1, 0], [1, 0]]\n"
          ]
        }
      ]
    },
    {
      "cell_type": "code",
      "source": [],
      "metadata": {
        "colab": {
          "base_uri": "https://localhost:8080/"
        },
        "id": "HwPj9bUcwLYI",
        "outputId": "ef1d7a75-33b4-4f81-b087-495cbb0c8a4f"
      },
      "execution_count": null,
      "outputs": [
        {
          "output_type": "stream",
          "name": "stdout",
          "text": [
            "True\n"
          ]
        }
      ]
    },
    {
      "cell_type": "code",
      "source": [
        "def main():\n",
        "    loto = []\n",
        "    for i in range(3):\n",
        "        row = list(map(int,input().split()))\n",
        "        loto.append(row)\n",
        "\n",
        "    n=int(input())\n",
        "    if(n<1 or n>10):\n",
        "        return\n",
        "    for _ in range(n):\n",
        "        a=int(input())\n",
        "        check(loto, a)\n",
        "\n",
        "    if(kinh(loto)):\n",
        "        print(\"Yes\")\n",
        "    else:\n",
        "        print(\"No\")\n",
        "\n",
        "def kinh(loto):\n",
        "    if(loto[0][0]==loto[0][1]==loto[0][2] or loto[1][0]==loto[1][1]==loto[1][2] or loto[2][0]==loto[2][1]==loto[2][2]):\n",
        "        return True\n",
        "    if(loto[0][0]==loto[1][0]==loto[2][0] or loto[0][1]==loto[1][1]==loto[2][1] or loto[0][2]==loto[1][2]==loto[2][2]):\n",
        "        return True\n",
        "    for i in range(3):\n",
        "        if(loto[i][i]==0):\n",
        "            return True\n",
        "    if(loto[0][2]==loto[1][1]==loto[2][0]):\n",
        "        return True\n",
        "\n",
        "\n",
        "def check(loto, element):\n",
        "    for i in range(3):\n",
        "        for j in range(3):\n",
        "            if loto[i][j]==element:\n",
        "                loto[i][j]=0\n",
        "\n",
        "    return loto\n",
        "if __name__ == \"__main__\":\n",
        "    main()"
      ],
      "metadata": {
        "id": "_eihJkDfjxN4"
      },
      "execution_count": null,
      "outputs": []
    },
    {
      "cell_type": "code",
      "source": [
        "\n",
        "\n",
        "def main():\n",
        "    l,r=map(int,input().split())\n",
        "    print(check(l,r))\n",
        "\n",
        "def check(l,r):\n",
        "    password = []\n",
        "    while(l<=r):\n",
        "        if(sdb(l)):\n",
        "            password.append(l)\n",
        "        l+=1\n",
        "    return combination(password)\n",
        "\n",
        "def combination(factors):\n",
        "   count=0\n",
        "   for i in range(len(factors)):\n",
        "       for j in range(i+1,len(factors)):\n",
        "\n",
        "            if(sdb(factors[i]* factors[j])):\n",
        "                count+=1\n",
        "   return count\n",
        "\n",
        "def gcd(a, b):\n",
        "    while b: a, b = b, a % b\n",
        "    return a\n",
        "\n",
        "def sdb(n):\n",
        "    factors = []\n",
        "    i = 2\n",
        "    while i * i <= (n):\n",
        "        if n % i == 0:\n",
        "            factors.append(i)\n",
        "            n //= i\n",
        "        else:\n",
        "            i += 1\n",
        "    if n > 1:\n",
        "        factors.append(n)\n",
        "    for i in range(len(factors)):\n",
        "        if (i+1)<len(factors):\n",
        "            if(factors[i] == factors[i+1]):\n",
        "                return False\n",
        "    return True\n",
        "\n",
        "if __name__ == '__main__':\n",
        "    main()"
      ],
      "metadata": {
        "id": "CjminHSImKbN"
      },
      "execution_count": null,
      "outputs": []
    },
    {
      "cell_type": "code",
      "source": [
        "def find_square_coordinates(x1, y1, x2, y2):\n",
        "    distance = ((x2 - x1)**2 + (y2 - y1)**2)**0.5\n",
        "\n",
        "    C = (x2 + (y2 - y1), y2 - (x2 - x1))\n",
        "    D = (x1 + (y2 - y1), y1 - (x2 - x1))\n",
        "\n",
        "    E = (x1 - (y2 - y1), y1 + (x2 - x1))\n",
        "    F = (x2 - (y2 - y1), y2 + (x2 - x1))\n",
        "\n",
        "    print(f\"({x1}, {y1}),{E},{F},({x2}, {y2})\")\n",
        "    print(f\"({x1}, {y1}),({x2}, {y2}),{C},{D}\")\n",
        "\n",
        "\n",
        "\n",
        "def main():\n",
        "    x1, y1 = map(int, input().split())\n",
        "    x2, y2 = map(int, input().split())\n",
        "    find_square_coordinates(x1, y1, x2, y2)\n",
        "if __name__ == \"__main__\":\n",
        "     main()"
      ],
      "metadata": {
        "colab": {
          "base_uri": "https://localhost:8080/"
        },
        "id": "7KojRYgQqn0C",
        "outputId": "cc945419-52f8-45eb-97ce-ae689718a392"
      },
      "execution_count": null,
      "outputs": [
        {
          "output_type": "stream",
          "name": "stdout",
          "text": [
            "2 4\n",
            "3 4\n",
            "(2, 4),(2, 5),(3, 5),(3, 4)\n",
            "(2, 4),(3, 4),(3, 3),(2, 3)\n"
          ]
        }
      ]
    },
    {
      "cell_type": "code",
      "source": [
        "a = [1,2,3,4,5,6]\n",
        "b = [7,8,9]\n",
        "a[3:6]=b\n",
        "b[0] = 2\n",
        "print(a)"
      ],
      "metadata": {
        "colab": {
          "base_uri": "https://localhost:8080/"
        },
        "id": "rh7Y5modsaK7",
        "outputId": "3696aed4-e4b7-4c3b-ee6f-12d404ea19a5"
      },
      "execution_count": null,
      "outputs": [
        {
          "output_type": "stream",
          "name": "stdout",
          "text": [
            "[1, 2, 3, 7, 8, 9]\n"
          ]
        }
      ]
    },
    {
      "cell_type": "code",
      "source": [
        "a = [1,2,3,4,5,6]\n",
        "b = a[3:6]\n",
        "a[4]=1\n",
        "print(b)"
      ],
      "metadata": {
        "colab": {
          "base_uri": "https://localhost:8080/"
        },
        "id": "BrmzpoHms6fx",
        "outputId": "8452cf26-2314-401c-ceb3-8e865248e052"
      },
      "execution_count": null,
      "outputs": [
        {
          "output_type": "stream",
          "name": "stdout",
          "text": [
            "[4, 5, 6]\n"
          ]
        }
      ]
    },
    {
      "cell_type": "code",
      "source": [
        "def MergeSort(a):\n",
        "  l = len(a)\n",
        "  if(l>1):\n",
        "    m = int(l/2)\n",
        "    b = a[:m]\n",
        "    c = a[m:]\n",
        "    MergeSort(b)\n",
        "    MergeSort(c)\n",
        "    merge(a, b, c)\n",
        "\n",
        "def merge(a, b, c):\n",
        "  p = len(b)\n",
        "  q = len(c)\n",
        "  i = 0\n",
        "  j = 0\n",
        "  k = 0\n",
        "  while(i<p and j<q):\n",
        "    if(b[i]<=c[j]):\n",
        "      a[k] = b[i]\n",
        "      i+=1\n",
        "    else:\n",
        "      a[k] = c[j]\n",
        "      j+=1\n",
        "    k+=1\n",
        "  if(i==p): a[k:] = c[j:]\n",
        "  else: a[k:] = b[i:]\n",
        "\n",
        "a = [8, 3, 2, 9, 7, 1, 5, 4, 4]\n",
        "MergeSort(a)\n",
        "print(a)"
      ],
      "metadata": {
        "colab": {
          "base_uri": "https://localhost:8080/"
        },
        "id": "yZ-yYWSnslHL",
        "outputId": "6311b9a9-7243-4a61-8435-eaf0f935e5c5"
      },
      "execution_count": null,
      "outputs": [
        {
          "output_type": "stream",
          "name": "stdout",
          "text": [
            "[1, 2, 3, 4, 4, 5, 7, 8, 9]\n"
          ]
        }
      ]
    },
    {
      "cell_type": "code",
      "source": [
        "impoint(5/2)"
      ],
      "metadata": {
        "colab": {
          "base_uri": "https://localhost:8080/"
        },
        "id": "bJKSA8THunxp",
        "outputId": "9d2f4263-a943-4e33-c424-182242bb7128"
      },
      "execution_count": null,
      "outputs": [
        {
          "output_type": "execute_result",
          "data": {
            "text/plain": [
              "2"
            ]
          },
          "metadata": {},
          "execution_count": 9
        }
      ]
    },
    {
      "cell_type": "code",
      "source": [
        "import math\n",
        "\n",
        "for n in range(10):\n",
        "  i = math.ceil(math.sqrt(n/2))\n",
        "  print(f\"{2*i*i} {i} {n}\")"
      ],
      "metadata": {
        "colab": {
          "base_uri": "https://localhost:8080/"
        },
        "id": "ezX5uCc40SdW",
        "outputId": "2c1a7979-311a-4eec-b785-1a6f8e4b0af4"
      },
      "execution_count": null,
      "outputs": [
        {
          "output_type": "stream",
          "name": "stdout",
          "text": [
            "0 0 0\n",
            "2 1 1\n",
            "2 1 2\n",
            "8 2 3\n",
            "8 2 4\n",
            "8 2 5\n",
            "8 2 6\n",
            "8 2 7\n",
            "8 2 8\n",
            "18 3 9\n"
          ]
        }
      ]
    },
    {
      "cell_type": "code",
      "source": [
        "def check1(n):\n",
        "  sum = 0\n",
        "  i = 1\n",
        "  res = 0\n",
        "  while i<=n:\n",
        "    res+=1\n",
        "    j = n - i*i\n",
        "    while j<=i*i:\n",
        "      res+=1\n",
        "      sum+=i*i\n",
        "      j+=1\n",
        "    res+=1\n",
        "    i+=1\n",
        "  res+=1\n",
        "  return res\n",
        "\n",
        "def sum_square(a, b):\n",
        "  res=0\n",
        "  for i in range(a, b+1, 1):\n",
        "    res+=i*i\n",
        "  return res\n",
        "\n",
        "def check2(n):\n",
        "  start = max(1, math.ceil(math.sqrt(n/2)))\n",
        "  return 2*n + 1 + (1-n)*(n-start+1) + 2*sum_square(start, n)\n",
        "\n",
        "count = 0\n",
        "for i in range(20):\n",
        "  if(check1(i) == check2(i)): count+=1\n",
        "\n",
        "print(count)"
      ],
      "metadata": {
        "colab": {
          "base_uri": "https://localhost:8080/"
        },
        "id": "3adGIN0E1Xcg",
        "outputId": "8cc232e4-aa92-4b58-ecca-024c1e522c24"
      },
      "execution_count": null,
      "outputs": [
        {
          "output_type": "stream",
          "name": "stdout",
          "text": [
            "20\n"
          ]
        }
      ]
    },
    {
      "cell_type": "code",
      "source": [
        "def check1(n):\n",
        "  res = 0\n",
        "  while n:\n",
        "    res+=1\n",
        "    n //= 2\n",
        "  return res\n",
        "\n",
        "def check2(n):\n",
        "  return math.floor(math.log(2*n)/math.log(2))\n",
        "\n",
        "count = 0\n",
        "for i in range(1, 1000001, 1):\n",
        "  if (check1(i)==check2(i)): count+=1\n",
        "\n",
        "print(count)"
      ],
      "metadata": {
        "colab": {
          "base_uri": "https://localhost:8080/"
        },
        "id": "orU1RgjFAF8o",
        "outputId": "0f27fb2d-60c7-415a-fc20-52a6f01fe347"
      },
      "execution_count": null,
      "outputs": [
        {
          "output_type": "stream",
          "name": "stdout",
          "text": [
            "1000000\n"
          ]
        }
      ]
    },
    {
      "cell_type": "code",
      "source": [
        "def bin_search(curr, time, timeout):\n",
        "  if time[0]+timeout>=time[curr]:\n",
        "    return 0\n",
        "  l = 1\n",
        "  r = curr\n",
        "  while(l<=r):\n",
        "    m = (l+r)//2\n",
        "    if(time[m]+timeout>=time[curr] and time[m-1]+timeout<time[curr]):\n",
        "      return m\n",
        "    elif(time[m]+timeout<time[curr]): l=m+1\n",
        "    else: r=m-1\n",
        "\n",
        "\n",
        "def solve():\n",
        "  n = int(input())\n",
        "  time = list(map(float, input().split()))\n",
        "  x = int(input())\n",
        "  y = int(input())\n",
        "  z = float(input())\n",
        "  dmg = 0\n",
        "  for i in range(n):\n",
        "    dmg += x + (i-bin_search(i, time, z))*y\n",
        "  print(dmg)\n",
        "\n",
        "if __name__==\"__main__\":\n",
        "  solve()"
      ],
      "metadata": {
        "id": "8Ro78ARRSmgE",
        "outputId": "b89884e5-11e9-4611-b33e-80a861ed7a12",
        "colab": {
          "base_uri": "https://localhost:8080/"
        }
      },
      "execution_count": null,
      "outputs": [
        {
          "output_type": "stream",
          "name": "stdout",
          "text": [
            "13\n",
            "4.9 12.6 19.1 22.9 26.2 32.7 34.6 44.3 44.6 50.5 59.8 66.2 72.1\n",
            "65\n",
            "51\n",
            "15\n",
            "2120.0\n"
          ]
        }
      ]
    },
    {
      "cell_type": "code",
      "source": [
        "def clockwise(a, n, e, w, s):\n",
        "  if(n==s and w==e): return\n",
        "  elif(n==s):\n",
        "    temp = a[s][e]\n",
        "    for i in range(e, w, -1):\n",
        "      a[s][i] = a[s][i-1]\n",
        "    a[s][w] = temp\n",
        "  elif(w==e):\n",
        "    temp = a[s][e]\n",
        "    for i in range(s, n, -1):\n",
        "      a[i][e]=a[i-1][e]\n",
        "    a[n][e] = temp\n",
        "  else:\n",
        "    temp = a[n][e]\n",
        "    for i in range(e-1, w-1, -1):\n",
        "      a[n][i+1] = a[n][i]\n",
        "    for i in range(n+1, s+1):\n",
        "      a[i-1][w] = a[i][w]\n",
        "    for i in range(w+1, e+1):\n",
        "      a[s][i-1] = a[s][i]\n",
        "    for i in range(s-1, n, -1):\n",
        "      a[i+1][e] = a[i][e]\n",
        "    a[n+1][e] = temp\n",
        "\n",
        "def anticlockwise(a, n, e, w, s):\n",
        "  if(n==s and w==e): return\n",
        "  elif(n==s):\n",
        "    temp = a[s][w]\n",
        "    for i in range(w+1, e+1):\n",
        "      a[s][i-1] = a[s][i]\n",
        "    a[s][e] = temp\n",
        "  elif(w==e):\n",
        "    temp = a[n][e]\n",
        "    for i in range(n+1, s+1):\n",
        "      a[i-1][e]=a[i][e]\n",
        "    a[s][e] = temp\n",
        "  else:\n",
        "    temp = a[n][w]\n",
        "    for i in range(w+1, e+1):\n",
        "      a[n][i-1] = a[n][i]\n",
        "    for i in range(n+1, s+1):\n",
        "      a[i-1][e] = a[i][e]\n",
        "    for i in range(e-1, w-1, -1):\n",
        "      a[s][i+1] = a[s][i]\n",
        "    for i in range(s-1, n, -1):\n",
        "      a[i+1][w] = a[i][w]\n",
        "    a[n+1][w] = temp\n",
        "\n",
        "def solve():\n",
        "  r, c = map(int, input().split())\n",
        "  a = [[0]*c for _ in range(r)]\n",
        "  for i in range(r):\n",
        "    a[i] = list(map(int, input().split()))\n",
        "\n",
        "  l = int((min(r, c)+1)/2)\n",
        "  for i in range(l):\n",
        "    if(i%2==0): clockwise(a, i, c-1-i, i, r-1-i)\n",
        "    else: anticlockwise(a, i, c-1-i, i, r-1-i)\n",
        "\n",
        "  for row in a:\n",
        "    print(\" \".join(map(str, row)))\n",
        "\n",
        "if __name__==\"__main__\":\n",
        "  solve()"
      ],
      "metadata": {
        "id": "dsFFFjz1GCSV",
        "colab": {
          "base_uri": "https://localhost:8080/"
        },
        "outputId": "2b2ff14a-4ba8-4630-e065-8ace9bfb05d5"
      },
      "execution_count": null,
      "outputs": [
        {
          "output_type": "stream",
          "name": "stdout",
          "text": [
            "3 5\n",
            "1 2 3 4 5\n",
            "1 2 3 4 5\n",
            "1 2 3 4 5\n",
            "1 1 2 3 4\n",
            "1 3 4 2 5\n",
            "2 3 4 5 5\n"
          ]
        }
      ]
    },
    {
      "cell_type": "code",
      "source": [
        "a = 7\n",
        "l = int((a+1)/2)\n",
        "for i in range(l):\n",
        "  print(i)"
      ],
      "metadata": {
        "colab": {
          "base_uri": "https://localhost:8080/"
        },
        "id": "7D9rWu_OOcH1",
        "outputId": "6e2ad844-2d7f-4c34-fa8f-6706885ff447"
      },
      "execution_count": null,
      "outputs": [
        {
          "output_type": "stream",
          "name": "stdout",
          "text": [
            "0\n",
            "1\n",
            "2\n",
            "3\n"
          ]
        }
      ]
    },
    {
      "cell_type": "code",
      "source": [
        "a = [[1, 2, 3, 4],\n",
        "     [5, 6, 7, 8],\n",
        "     [9, 10, 11, 12],\n",
        "     [13, 14, 15, 16],\n",
        "     [17, 18, 19, 20]]\n",
        "\n",
        "anticlockwise(a, 0, 3, 0, 4)\n",
        "\n",
        "def print_matrix(matrix):\n",
        "    for row in matrix:\n",
        "        print(\" \".join(map(str, row)))\n",
        "\n",
        "print_matrix(a)\n"
      ],
      "metadata": {
        "colab": {
          "base_uri": "https://localhost:8080/"
        },
        "id": "GbbOkLnUITlS",
        "outputId": "c740a4be-f49a-4725-9d8f-b8adbef9aaea"
      },
      "execution_count": null,
      "outputs": [
        {
          "output_type": "stream",
          "name": "stdout",
          "text": [
            "2 3 4 8\n",
            "1 6 7 12\n",
            "5 10 11 16\n",
            "9 14 15 20\n",
            "13 17 18 19\n"
          ]
        }
      ]
    },
    {
      "cell_type": "code",
      "source": [
        "import re\n",
        "def findfloat(str):\n",
        "    current_number =''\n",
        "    for char in str:\n",
        "        if char.isdigit() or char in \"+-.\":\n",
        "            current_number += char\n",
        "    result=float(current_number)\n",
        "    return result\n",
        "\n",
        "def solution(prices, notes, x):\n",
        "    converted_list = [int(x) for x in prices]  # Convert string elements to integers\n",
        "    list_sum = sum(converted_list)\n",
        "    if(list_sum<x):\n",
        "        return True\n",
        "    l=len(prices)\n",
        "    a=0\n",
        "    for y in range(l):\n",
        "        if('higher' in notes[y]):\n",
        "            f=findfloat(notes[y])\n",
        "            h=float(prices[y]+prices[y]*(1+f*100))\n",
        "            a+=h\n",
        "        elif('lower' in notes[y]):\n",
        "            f=findfloat(notes[y])\n",
        "            lo=float(prices[y]-prices[y]*(1+f*100))\n",
        "            a+=lo\n",
        "    if a>x:\n",
        "        return False\n",
        "    elif a<=x:\n",
        "        return True\n",
        "\n",
        "def main():\n",
        "    prices=input().split()\n",
        "    notes=[]\n",
        "    notes.append(input().split())\n",
        "    notes.append(input().split())\n",
        "    notes.append(input().split())\n",
        "    x=int(input())\n",
        "    result=solution(prices,notes,x)\n",
        "    print(result)\n",
        "\n",
        "if __name__ == \"__main__\":\n",
        "    main()"
      ],
      "metadata": {
        "id": "HDFbrI9SQHsf"
      },
      "execution_count": null,
      "outputs": []
    },
    {
      "cell_type": "code",
      "source": [
        "def findfloat(str):\n",
        "    current_number =''\n",
        "    for char in str:\n",
        "        if char.isdigit() or char in \".\":\n",
        "            current_number += char\n",
        "    result=float(current_number)\n",
        "    return result\n",
        "\n",
        "print(findfloat('this item is 20.0% higher than in-store from now to sep 30'))"
      ],
      "metadata": {
        "colab": {
          "base_uri": "https://localhost:8080/"
        },
        "id": "yb3Z1_0QUbXh",
        "outputId": "8c9639e0-b381-449e-fbd6-f8c845c2507e"
      },
      "execution_count": null,
      "outputs": [
        {
          "output_type": "stream",
          "name": "stdout",
          "text": [
            "20.03\n"
          ]
        }
      ]
    },
    {
      "cell_type": "code",
      "source": [
        "!pwd"
      ],
      "metadata": {
        "colab": {
          "base_uri": "https://localhost:8080/"
        },
        "id": "6CggvEa6C_rr",
        "outputId": "b4fb938a-b3af-4fba-ea9a-3c3943a00f7e"
      },
      "execution_count": null,
      "outputs": [
        {
          "output_type": "stream",
          "name": "stdout",
          "text": [
            "/content\n"
          ]
        }
      ]
    },
    {
      "cell_type": "code",
      "source": [
        "!cd sample_data\n",
        "!ls"
      ],
      "metadata": {
        "colab": {
          "base_uri": "https://localhost:8080/"
        },
        "id": "1lHDgp1eDBRh",
        "outputId": "9a331563-f994-4ab2-e017-20b16a907f54"
      },
      "execution_count": null,
      "outputs": [
        {
          "output_type": "stream",
          "name": "stdout",
          "text": [
            "sample_data\n"
          ]
        }
      ]
    },
    {
      "cell_type": "code",
      "source": [
        "!ls"
      ],
      "metadata": {
        "colab": {
          "base_uri": "https://localhost:8080/"
        },
        "id": "WWBjmK49DEhU",
        "outputId": "e82039d6-7805-49f8-a4e2-ca12912a64d5"
      },
      "execution_count": null,
      "outputs": [
        {
          "output_type": "stream",
          "name": "stdout",
          "text": [
            "sample_data\n"
          ]
        }
      ]
    },
    {
      "cell_type": "code",
      "source": [],
      "metadata": {
        "id": "GJT1CuJTDGff"
      },
      "execution_count": null,
      "outputs": []
    },
    {
      "cell_type": "code",
      "source": [
        "def solve():\n",
        "  l, n = map(int, input().split())\n",
        "  l *= 100\n",
        "  count = [1, 0]\n",
        "  res = [l, 0]\n",
        "\n",
        "  for i in range(n):\n",
        "    inp = input().split()\n",
        "    lenght, side = int(inp[0]), int(inp[1]=='right')\n",
        "    if(lenght<=res[side]):\n",
        "      res[side] -= lenght\n",
        "    else:\n",
        "      res[side] = l - lenght\n",
        "      count[side] += 1\n",
        "  if(count[1]>=count[0]): print(2*count[1])\n",
        "  else: print(2*count[0]-1)\n",
        "\n",
        "if __name__ == \"__main__\":\n",
        "    solve()"
      ],
      "metadata": {
        "colab": {
          "base_uri": "https://localhost:8080/"
        },
        "id": "Jvb7rddPzRbp",
        "outputId": "959d2ca0-4b7d-4093-d473-8d68cc17aba9"
      },
      "execution_count": 9,
      "outputs": [
        {
          "output_type": "stream",
          "name": "stdout",
          "text": [
            "15 4\n",
            "380 right\n",
            "720 right\n",
            "1380 right\n",
            "1040 right\n",
            "6\n"
          ]
        }
      ]
    },
    {
      "cell_type": "code",
      "source": [
        "def align_right(matrix):\n",
        "    # Tìm chiều dài lớn nhất của các số trong cột\n",
        "    max_lengths = [max(len(str(row[i])) for row in matrix) for i in range(len(matrix[0]))]\n",
        "\n",
        "    aligned_matrix = []\n",
        "    for row in matrix:\n",
        "        aligned_row = []\n",
        "        for i, num in enumerate(row):\n",
        "            # Thêm khoảng trắng vào đầu các số để canh lề phải\n",
        "            aligned_row.append(str(num).rjust(max_lengths[i]))\n",
        "        aligned_matrix.append(aligned_row)\n",
        "\n",
        "    return aligned_matrix\n",
        "\n",
        "def print_matrix(matrix):\n",
        "    for row in matrix:\n",
        "        print(\" \".join(row))\n",
        "\n",
        "# Example matrix\n",
        "matrix = [\n",
        "    [1, 22, 333],\n",
        "    [4444, 55555, 666666],\n",
        "    [7777777, 88888888, 999999999]\n",
        "]\n",
        "\n",
        "aligned_matrix = align_right(matrix)\n",
        "print_matrix(aligned_matrix)\n"
      ],
      "metadata": {
        "colab": {
          "base_uri": "https://localhost:8080/"
        },
        "id": "wM9D6iRpRcBi",
        "outputId": "949f3151-3b3b-46b4-eb56-5c3798e76f7b"
      },
      "execution_count": 10,
      "outputs": [
        {
          "output_type": "stream",
          "name": "stdout",
          "text": [
            "      1       22       333\n",
            "   4444    55555    666666\n",
            "7777777 88888888 999999999\n"
          ]
        }
      ]
    },
    {
      "cell_type": "code",
      "source": [
        "int(False)"
      ],
      "metadata": {
        "colab": {
          "base_uri": "https://localhost:8080/"
        },
        "id": "Lk6F2z_jN2xN",
        "outputId": "a2d6c6b4-8b24-4066-c283-a9b4d1a15946"
      },
      "execution_count": 2,
      "outputs": [
        {
          "output_type": "execute_result",
          "data": {
            "text/plain": [
              "0"
            ]
          },
          "metadata": {},
          "execution_count": 2
        }
      ]
    },
    {
      "cell_type": "code",
      "source": [],
      "metadata": {
        "id": "jlC6vlAy3-ce"
      },
      "execution_count": null,
      "outputs": []
    }
  ]
}